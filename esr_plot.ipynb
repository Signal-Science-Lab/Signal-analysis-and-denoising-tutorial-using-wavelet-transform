{
 "cells": [
  {
   "cell_type": "code",
   "execution_count": null,
   "metadata": {},
   "outputs": [],
   "source": [
    "import os\n",
    "import numpy as np\n",
    "from scipy.fft import rfft, irfft, rfftfreq\n",
    "from pywt import cwt, wavedec, waverec, swt, WaveletPacket\n",
    "import matplotlib.pyplot as plt\n",
    "import matplotlib.gridspec as gridspec\n",
    "plt.rcParams.update({\"font.size\": 12, \"font.weight\": 'bold', \"lines.linewidth\": 1.5})\n",
    "# os.chdir(r\"C:\\Users\\gs582\\Dropbox\\Publications\\Journal of Magnetic resonance\\swt_fig\")\n",
    "#%matplotlib widget"
   ]
  },
  {
   "cell_type": "code",
   "execution_count": null,
   "metadata": {},
   "outputs": [],
   "source": [
    "def data_wcfs(data, wave, lev):\n",
    "    \"\"\"Returns the approximation and detail of coefficients of the data at all the decomposition level using \"wavedec\".\n",
    "\n",
    "    Args:\n",
    "        data (Numpy Array): 1D vector of the reference data.\n",
    "        wave (String): Wavelet to be used for wavelet decomposition.\n",
    "        lev (Intiger): Deomposition level till which signal will be decomposed.\n",
    "\n",
    "    Returns:\n",
    "        cf (List): Returns a list of approximation and detail coefficients.\n",
    "    \"\"\"\n",
    "\n",
    "    app_ref, app_rec, det_ref, det_rec, cf, cf_rec = [], [], [], [], [], []\n",
    "    for i in range(1, lev+1):\n",
    "        c = wavedec(data=data, wavelet = wave, level=i)\n",
    "        cc = wavedec(data=data, wavelet = wave, level=i)\n",
    "               \n",
    "        app_ref.append(c[0])\n",
    "        det_ref.append(cc[1])\n",
    "        # Reconstruct the data using approximation\n",
    "        for j in range(i):\n",
    "            c[j+1][::] = 0\n",
    "        app_rec.append(waverec(c, wavelet=wave))\n",
    "\n",
    "        cc[0][::] = 0\n",
    "        if i > 1:\n",
    "            for j in range(1, i):\n",
    "                cc[1+j][::] = 0\n",
    "        det_rec.append(waverec(cc, wavelet=wave))\n",
    "        \n",
    "    cf.append(app_ref), cf.append(det_ref)\n",
    "    cf_rec.append(app_rec), cf_rec.append(det_rec)\n",
    "\n",
    "    return cf, cf_rec"
   ]
  },
  {
   "cell_type": "code",
   "execution_count": null,
   "metadata": {},
   "outputs": [],
   "source": [
    "# Load the data\n",
    "data_esr = np.loadtxt(r\"C:\\Users\\gs582\\Dropbox\\Publications\\PdF\\Journal of Magnetic resonance\\Data\\esr_sim.txt\")\n",
    "data_esr30 = -1*np.loadtxt(r\"C:\\Users\\gs582\\Dropbox\\Publications\\PdF\\Journal of Magnetic resonance\\Data\\esr_sim30.txt\")\n",
    "\n",
    "# Calculate number of sampling pint, sampling frequency\n",
    "N, deltaT = len(data_esr[:, 0]), (data_esr[1, 0]-data_esr[0, 0])\n",
    "\n",
    "# Take Fourier transform of the data\n",
    "fft_esr, fft_esr30 = rfft(-1*data_esr[:, 1]), rfft(data_esr30)\n",
    "fq = rfftfreq(N, deltaT)\n",
    "\n",
    "# Take Short Time Fourier Transform of the data\n",
    "# stft_fq, stft_t, stft_esr = stft(x=-1*data_esr[:, 1], fs=deltaT, window='hann', nperseg=256, noverlap=0)\n",
    "# _, _, stft_esr30 = stft(x=data_esr30, fs=deltaT, window='hann', nperseg=256, noverlap=0)\n",
    "seg = [0, 256, 512, 768]\n",
    "stft_esr, stft_esr30 = np.empty((len(seg), len(fft_esr)), dtype=np.complex64), np.empty((len(seg), len(fft_esr)), dtype=np.complex64)\n",
    "\n",
    "for i in range(len(seg)):\n",
    "    tempd1, tempd2 = np.zeros((N)), np.zeros((N))\n",
    "    tempd1[:256], tempd2[:256] = -1*data_esr[seg[i]:seg[i]+256, 1], data_esr30[seg[i]:seg[i]+256]\n",
    "    stft_esr[i, :], stft_esr30[i, :] = rfft(tempd1), rfft(tempd2)"
   ]
  },
  {
   "cell_type": "code",
   "execution_count": null,
   "metadata": {},
   "outputs": [],
   "source": []
  },
  {
   "cell_type": "code",
   "execution_count": null,
   "metadata": {},
   "outputs": [],
   "source": [
    "# Frequency filtering\n",
    "# Copy the data\n",
    "fftbp_esr, fftbp_esr30 = np.copy(fft_esr), np.copy(fft_esr30)\n",
    "fftgp_esr, fftgp_esr30 = np.copy(fft_esr), np.copy(fft_esr30)\n",
    "\n",
    "# Perform low and high frequency filtering\n",
    "#fftbp_esr[(freq_esr < np.max(freq_esr)/2)], fftbp_esr30[(freq_esr < np.max(freq_esr)/2)] = 0, 0\n",
    "fftbp_esr30[(fq > (np.max(fq))/2)] = 0\n",
    "\n",
    "# generate a Gaussian bandpass function\n",
    "gaussp = np.exp(-((fq - min(fq))/(2*0.5))**2) + np.exp(-((fq - max(fq))/(2*0.5))**2)  # Possitive frequency\n",
    "#gaussn = np.exp(-((fq + min(fq))/(2*0.1))**2) + np.exp(-((fq + max(fq))/(2*0.1))**2)  # Negative frequency\n",
    "gaussf = gaussp #+ gaussn   # Only have possitive frequencies hence need to filter them only\n",
    "fftgp_esr30 = fftgp_esr30*gaussf\n",
    "\n",
    "# Reconstruct the data using inverse Fourier transform\n",
    "databp_esr, databp_esr30 = irfft(fftbp_esr), irfft(fftbp_esr30)\n",
    "datagp_esr, datagp_esr30 = irfft(fftgp_esr), irfft(fftgp_esr30)\n",
    "\n",
    "# Take FT of the denoised data\n",
    "ftbp_esr30, ftgp_esr30 = rfft(databp_esr30), rfft(datagp_esr30)"
   ]
  },
  {
   "cell_type": "code",
   "execution_count": null,
   "metadata": {},
   "outputs": [],
   "source": []
  },
  {
   "cell_type": "code",
   "execution_count": null,
   "metadata": {},
   "outputs": [],
   "source": [
    "# Plot data, FT and STFT\n",
    "fig = plt.figure(figsize=(17, 6), dpi=100, layout='constrained')\n",
    "gs = fig.add_gridspec(2, 4, hspace=0, wspace=0)\n",
    "ax = gs.subplots(sharex=False, sharey=False)\n",
    "\n",
    "ax[0, 0].plot(data_esr[:, 0], data_esr30, '-r', label='Noisy'), ax[0, 0].plot(data_esr[:, 0], -1*data_esr[:, 1], '-b', label='Noise-free')\n",
    "ax[0, 0].legend(frameon=False, fontsize=10), ax[0, 0].set_xlim([(data_esr[0, 0]), (data_esr[1023, 0])])\n",
    "ax[0, 0].set_xlabel('Magnetic Field ($Gauss$)', fontsize=14, fontweight='bold'), ax[0, 0].set_ylabel('Magnitude', fontsize=14, fontweight='bold')\n",
    "ax[0, 0].set_title('Signal Domain')\n",
    "\n",
    "ax[0, 1].plot(fq, abs(fft_esr30), '-r', label='Noise-free'), ax[0, 1].plot(fq, abs(fft_esr), '-b', label='Noisy')\n",
    "ax[0, 1].legend(frameon=False, fontsize=10), ax[0, 1].set_xlim([fq[0], fq[len(fq)-1]])\n",
    "ax[0, 1].set_xlabel('Frequency ($Gauss^{-1}$)', fontsize=14, fontweight='bold'), ax[0, 1].set_ylabel('Magnitude', fontsize=14, fontweight='bold')\n",
    "ax[0, 1].set_title('Fourier Domain')\n",
    "\n",
    "ax[1, 0].plot(data_esr[:, 0], databp_esr30, '-r', label='Noisy'), ax[1, 0].plot(data_esr[:, 0], databp_esr, '-b', label='Noise-free')\n",
    "ax[1, 0].legend(frameon=False, fontsize=10), ax[1, 0].set_xlim([(data_esr[0, 0]), (data_esr[1023, 0])])\n",
    "ax[1, 0].set_xlabel('Magnetic Field ($Gauss$)', fontsize=14, fontweight='bold'), ax[1, 0].set_ylabel('Magnitude', fontsize=14, fontweight='bold')\n",
    "ax[1, 0].set_title('Highpass Filtering')\n",
    "\n",
    "ax[1, 1].plot(data_esr[:, 0], datagp_esr30, '-r', label='Noisy'), ax[1, 1].plot(data_esr[:, 0], datagp_esr, '-b', label='Noise-free')\n",
    "ax[1, 1].legend(frameon=False, fontsize=10), ax[1, 1].set_xlim([(data_esr[0, 0]), (data_esr[1023, 0])])\n",
    "ax[1, 1].set_xlabel('Magnetic Field ($Gauss$)', fontsize=14, fontweight='bold'), ax[1, 1].set_ylabel('Magnitude', fontsize=14, fontweight='bold')\n",
    "ax[1, 1].set_title('Gaussian Filtering')\n",
    "\n",
    "ax[0, 2].plot(fq, abs(stft_esr30[0, :]), '-r', label='Noisy'), ax[0, 2].plot(fq, abs(stft_esr[0, :]), '-b', label='Noise-free')\n",
    "ax[0, 2].legend(frameon=False, fontsize=10), ax[0, 2].set_xlim([fq[0], fq[len(fq)-1]])\n",
    "ax[0, 2].set_xlabel('Frequency ($Gauss^{-1}$)', fontsize=14, fontweight='bold'), ax[0, 2].set_ylabel('Magnitude', fontsize=14, fontweight='bold')\n",
    "ax[0, 2].set_title('STFT')\n",
    "\n",
    "ax[0, 3].plot(fq, abs(stft_esr30[1, :]), '-r', label='Noisy'), ax[0, 3].plot(fq, abs(stft_esr[1, :]), '-b', label='Noise-free')\n",
    "ax[0, 3].legend(frameon=False, fontsize=10), ax[0, 3].set_xlim([fq[0], fq[len(fq)-1]])\n",
    "ax[0, 3].set_xlabel('Frequency ($Gauss^{-1}$)', fontsize=14, fontweight='bold'), ax[0, 3].set_ylabel('Magnitude', fontsize=14, fontweight='bold')\n",
    "ax[0, 3].set_title('STFT')\n",
    "\n",
    "ax[1, 2].plot(fq, abs(stft_esr30[2, :]), '-r', label='Noisy'), ax[1, 2].plot(fq, abs(stft_esr[2, :]), '-b', label='Noise-free')\n",
    "ax[1, 2].legend(frameon=False, fontsize=10), ax[1, 2].set_xlim([fq[0], fq[len(fq)-1]])\n",
    "ax[1, 2].set_xlabel('Frequency ($Gauss^{-1}$)', fontsize=14, fontweight='bold'), ax[1, 2].set_ylabel('Magnitude', fontsize=14, fontweight='bold')\n",
    "ax[1, 2].set_title('STFT')\n",
    "\n",
    "ax[1, 3].plot(fq, abs(stft_esr30[3, :]), '-r', label='Noisy'), ax[1, 3].plot(fq, abs(stft_esr[3, :]), '-b', label='Noise-free')\n",
    "ax[1, 3].legend(frameon=False, fontsize=10), ax[1, 3].set_xlim([fq[0], fq[len(fq)-1]])\n",
    "ax[1, 3].set_xlabel('Frequency ($Gauss^{-1}$)', fontsize=14, fontweight='bold'), ax[1, 3].set_ylabel('Magnitude', fontsize=14, fontweight='bold')\n",
    "ax[1, 3].set_title('STFT')\n",
    "\n",
    "plt.show()"
   ]
  },
  {
   "cell_type": "code",
   "execution_count": null,
   "metadata": {},
   "outputs": [],
   "source": [
    "# fig = plt.figure(figsize=(4.5, 3), dpi=100, layout='constrained')\n",
    "# gs = fig.add_gridspec(1, 1, hspace=0, wspace=0)\n",
    "# ax = gs.subplots(sharex=False, sharey=False)\n",
    "# ax.plot(stft_fq)\n",
    "# plt.show()"
   ]
  },
  {
   "cell_type": "code",
   "execution_count": null,
   "metadata": {},
   "outputs": [],
   "source": []
  },
  {
   "cell_type": "code",
   "execution_count": null,
   "metadata": {},
   "outputs": [],
   "source": [
    "plt.figure(figsize=(4.5, 3), dpi=100, layout='constrained')\n",
    "plt.plot(data_esr[:, 0],data_esr30, '-r', label='Noisy')\n",
    "plt.plot(data_esr[:, 0], -1*data_esr[:, 1], '-b', label='Noise-free')\n",
    "plt.legend(frameon=False, fontsize=10, loc='upper right')\n",
    "plt.xlim([(data_esr[0, 0]), (data_esr[1023, 0])])\n",
    "plt.xlabel('Index', fontsize=14, fontweight='bold'), plt.ylabel('Magnitude', fontsize=14, fontweight='bold')\n",
    "# plt.vlines(x=data_esr[255, 0], ymin=min(data_esr[:, 1])-0.01, ymax=max(data_esr[:, 1])+0.01, color='k', ls='--', lw=2)\n",
    "# plt.vlines(x=data_esr[511, 0], ymin=min(data_esr[:, 1])-0.01, ymax=max(data_esr[:, 1])+0.01, color='k', ls='--', lw=2)\n",
    "# plt.vlines(x=data_esr[767, 0], ymin=min(data_esr[:, 1])-0.01, ymax=max(data_esr[:, 1])+0.01, color='k', ls='--', lw=2)\n",
    "\n",
    "# plt.savefig('esr.png', dpi=400, bbox_inches='tight', pad_inches=0.02)\n",
    "plt.show()"
   ]
  },
  {
   "cell_type": "code",
   "execution_count": null,
   "metadata": {},
   "outputs": [],
   "source": [
    "# Fourier transform plot\n",
    "# Arrow properties\n",
    "arprop, alp = dict(facecolor='black', shrink=0.005, width=2.5, alpha=0.7), 0.7\n",
    "\n",
    "plt.figure(figsize=(4.5, 3), dpi=100, layout='constrained')\n",
    "plt.plot(fq, abs(fft_esr30), '-r', label='Noisy')\n",
    "# plt.plot(fq, abs(fft_esr), '-b', label='Noise-free')\n",
    "# plt.legend(frameon=False, fontsize=10, loc='upper right')\n",
    "plt.xlim([fq[0], fq[len(fq)-1]])\n",
    "plt.ylim([-0.1, 7.5])\n",
    "plt.xlabel('Frequency ($Gauss^{-1}$)', fontsize=14, fontweight='bold')\n",
    "plt.ylabel('Magnitude', fontsize=14, fontweight='bold')\n",
    "# plt.annotate('Signal \\n Distortion', xy=(0.85, 3.5), xytext=(0.85, 6.6), xycoords='data', arrowprops=arprop, alpha=alp, ha='center', fontsize=10)\n",
    "# plt.annotate('Unable to Remove \\n all Noise', xy=(3.5, 2), xytext=(3.5, 5.0), xycoords='data', arrowprops=arprop, alpha=alp, ha='center', fontsize=10)\n",
    "# plt.savefig('ftesrgp.png', dpi=400, transparent=True, bbox_inches='tight', pad_inches=0.02)\n",
    "plt.show()"
   ]
  },
  {
   "cell_type": "code",
   "execution_count": null,
   "metadata": {},
   "outputs": [],
   "source": [
    "# Short Time Fourier Transform plot\n",
    "# Arrow properties\n",
    "arprop, alp = dict(facecolor='black', shrink=0.005, width=2.5, alpha=0.7), 0.7\n",
    "\n",
    "plt.figure(figsize=(4.5, 3), dpi=100, layout='constrained')\n",
    "plt.plot(fq, abs(stft_esr30[2, :]), '-r', label='Noisy')\n",
    "plt.plot(fq, abs(stft_esr[2, :]), '-b', label='Noise-free')\n",
    "plt.legend(frameon=False, fontsize=10, loc='upper right')\n",
    "plt.xlim([fq[0], fq[len(fq)-1]])\n",
    "plt.ylim([-0.01, 4.0])\n",
    "plt.xlabel('Frequency ($Gauss^{-1}$)', fontsize=14, fontweight='bold')\n",
    "plt.ylabel('Magnitude', fontsize=14, fontweight='bold')\n",
    "plt.annotate('Signal+Noise', xy=(0.7, 2.75), xytext=(0.7, 3.75), xycoords='data', arrowprops=arprop, alpha=alp, ha='center', fontsize=10)\n",
    "plt.annotate('Noise Only', xy=(3.0, 1.5), xytext=(3.0, 2.5), xycoords='data', arrowprops=arprop, alpha=alp, ha='center', fontsize=10)\n",
    "#plt.savefig('stftesr3.png', dpi=400, bbox_inches='tight', pad_inches=0.02)\n",
    "plt.show()"
   ]
  },
  {
   "cell_type": "code",
   "execution_count": null,
   "metadata": {},
   "outputs": [],
   "source": [
    "# Continuous Wavelet transform of the data\n",
    "scale = np.arange(1, 45, 1)\n",
    "cwt_esr, cfq_esr = cwt(data=-1*data_esr[:, 1], scales=scale, wavelet='gaus3')\n",
    "cwt_esr30, cfq_esr30 = cwt(data=data_esr30, scales=scale, wavelet='gaus3')"
   ]
  },
  {
   "cell_type": "code",
   "execution_count": null,
   "metadata": {},
   "outputs": [],
   "source": [
    "plt.figure(figsize=(4, 3), dpi=100, layout='constrained')\n",
    "plt.contourf(data_esr[:, 0], cfq_esr, abs(cwt_esr)**0.5, cmap='hot')\n",
    "#plt.contourf(data_esr[:, 0], cfq_esr30, abs(cwt_esr30)**0.5, cmap='hot')\n",
    "plt.xlabel('Magnetic Field ($Gauss$)', fontsize=14, fontweight='bold')\n",
    "#plt.ylabel('Scale', fontsize=14, fontweight='bold')\n",
    "plt.ylabel('Frequency', fontsize=14, fontweight='bold')\n",
    "\n",
    "plt.show()"
   ]
  },
  {
   "cell_type": "code",
   "execution_count": null,
   "metadata": {},
   "outputs": [],
   "source": [
    "# Statonary wavelet transform\n",
    "dl=4\n",
    "cf_db6, cf30_db6 = swt(data=-1*data_esr[:, 1], wavelet='db6', level=dl), swt(data=data_esr30, wavelet='db6', level=dl)\n",
    "cf_coif3, cf30_coif3 = swt(data=-1*data_esr[:, 1], wavelet='coif3', level=dl), swt(data=data_esr30, wavelet='coif3', level=dl)\n",
    "cf_sym10, cf30_sym10 = swt(data=-1*data_esr[:, 1], wavelet='sym10', level=dl), swt(data=data_esr30, wavelet='sym10', level=dl)\n",
    "cf_dmey, cf30_dmey = swt(data=-1*data_esr[:, 1], wavelet='dmey', level=dl), swt(data=data_esr30, wavelet='dmey', level=dl)"
   ]
  },
  {
   "cell_type": "code",
   "execution_count": null,
   "metadata": {},
   "outputs": [],
   "source": [
    "dt, dt30 = cf_coif3, cf30_coif3\n",
    "fig = plt.figure(figsize=(15, 4), dpi=100, layout='constrained')\n",
    "gs = fig.add_gridspec(2, 4, hspace=0, wspace=0)\n",
    "ax = gs.subplots(sharex=False, sharey=False)\n",
    "for i in range(1, dl+1):\n",
    "    ax[0, i-1].plot(dt30[-i][0], '-r', label='Noisy'), ax[0, i-1].set_xlim(0, 1023), ax[0, i-1].legend(frameon=False, fontsize=10, loc='upper right')\n",
    "    ax[0, i-1].plot(dt[-i][0], '-b', label='Noise-free'), ax[0, i-1].set_xlim(0, 1023), ax[0, i-1].legend(frameon=False, fontsize=10, loc='upper right')\n",
    "\n",
    "    ax[1, i-1].plot(dt30[-i][1], '-r', label='Noisy'), ax[1, i-1].set_xlim(0, 1023), ax[1, i-1].legend(frameon=False, fontsize=10, loc='upper right')\n",
    "    ax[1, i-1].plot(dt[-i][1], '-b', label='Noise-free'), ax[1, i-1].set_xlim(0, 1023), ax[1, i-1].legend(frameon=False, fontsize=10, loc='upper right')\n",
    "\n",
    "plt.show()"
   ]
  },
  {
   "cell_type": "code",
   "execution_count": null,
   "metadata": {},
   "outputs": [],
   "source": [
    "# Save wavelet coefficients\n",
    "dt, dt30 = cf_db6, cf30_db6\n",
    "for i in range(1, dl+1):\n",
    "    plt.figure(figsize=(4.5, 3), dpi=100, layout='constrained')\n",
    "    plt.plot(dt30[-i][0], '-r', label='Noisy')\n",
    "    plt.plot(dt[-i][0], '-b', label='Noise-free')\n",
    "    plt.legend(frameon=False, loc='upper right')\n",
    "    plt.xlim([0, 1023])\n",
    "    plt.xlabel('Index', fontsize=14, fontweight='bold')\n",
    "    plt.ylabel('Magnitude', fontsize=14, fontweight='bold')\n",
    "    plt.ylim([min(dt[-i][0]), max(dt[-i][0])])\n",
    "    #plt.xticks([])\n",
    "    #plt.yticks([])\n",
    "    # plt.savefig('esrappdb6_{i}.png'.format(i=i), dpi=400, bbox_inches='tight', pad_inches=0.02)\n",
    "\n",
    "    plt.show()\n",
    "\n"
   ]
  },
  {
   "cell_type": "code",
   "execution_count": null,
   "metadata": {},
   "outputs": [],
   "source": [
    "# Plot and save FT of wavelet coefficients\n",
    "dt, dt30 = cf_coif3, cf30_coif3\n",
    "for i in range(1, dl+1):\n",
    "    plt.figure(figsize=(4.5, 3), dpi=100, layout='constrained')\n",
    "    plt.plot(fq, abs(rfft(dt30[-i][0])), '-r', label='Noisy', alpha=0.9)\n",
    "    plt.plot(fq, abs(rfft(dt[-i][0])), '-b', label='Noise-free', alpha=0.9)\n",
    "    plt.legend(frameon=False, fontsize=10)\n",
    "    plt.xlim([fq[0], fq[len(fq)-1]])\n",
    "    plt.xlabel('Frequency($Gauss^{-1}$)', fontsize=14, fontweight='bold')\n",
    "    plt.ylabel('Magnitude', fontsize=14, fontweight='bold')\n",
    "    plt.ylim([min(abs(rfft(dt30[-i][0])))-1, max(abs(rfft(dt30[-i][0])))])\n",
    "    #plt.annotate('Signal \\n Distortion', xy=(0.85, 3.5), xytext=(0.85, 6.6), xycoords='data', arrowprops=arprop, alpha=alp, ha='center', fontsize=10)\n",
    "    # plt.savefig('ftesrapp_{i}.png'.format(i=i), dpi=400, bbox_inches='tight', pad_inches=0.02)\n",
    "\n",
    "    plt.show()"
   ]
  },
  {
   "cell_type": "code",
   "execution_count": null,
   "metadata": {},
   "outputs": [],
   "source": [
    "wp_db6, wp_coif3 = WaveletPacket(data=-1*data_esr[:, 1], wavelet='db6', maxlevel=3), WaveletPacket(data=-1*data_esr[:, 1], wavelet='coif3', maxlevel=3)\n",
    "wp30_db6, wp30_coif3 = WaveletPacket(data=data_esr30, wavelet='db6', maxlevel=3), WaveletPacket(data=data_esr30, wavelet='coif3', maxlevel=3)"
   ]
  },
  {
   "cell_type": "code",
   "execution_count": null,
   "metadata": {},
   "outputs": [],
   "source": [
    "print([node.path for node in wp_db6.get_level(3, 'natural')])"
   ]
  },
  {
   "cell_type": "code",
   "execution_count": null,
   "metadata": {},
   "outputs": [],
   "source": [
    "dt = wp30_coif3\n",
    "\n",
    "fig = plt.figure(figsize=(17, 4), dpi=100, constrained_layout=True)\n",
    "gs = fig.add_gridspec(3, 8, hspace=0, wspace=0)\n",
    "ax1, ax2 = fig.add_subplot(gs[0, 0:4]), fig.add_subplot(gs[0, 4:])\n",
    "ax3, ax4, ax5, ax6 = fig.add_subplot(gs[1, :2]), fig.add_subplot(gs[1, 2:4]),fig.add_subplot(gs[1, 4:6]), fig.add_subplot(gs[1, 6:])\n",
    "for i in range(7, 15):\n",
    "    exec(f'ax{i} = fig.add_subplot(gs[2, i-7])')\n",
    "# ax7, ax8, ax9, ax10 = fig.add_subplot(gs[2, 0]), fig.add_subplot(gs[2, 1]),fig.add_subplot(gs[2, 2]), fig.add_subplot(gs[2, 3])\n",
    "# ax11, ax12, ax13, ax14 = fig.add_subplot(gs[2, 4]), fig.add_subplot(gs[2, 5]),fig.add_subplot(gs[2, 6]), fig.add_subplot(gs[2, 7])\n",
    "\n",
    "ax1.plot(dt['a'].data, '-b'), ax2.plot(dt['d'].data, '-r')\n",
    "ax3.plot(dt['aa'].data, '-b'), ax4.plot(dt['ad'].data, '-r'), ax5.plot(dt['da'].data, '-b'), ax6.plot(dt['dd'].data, '-r')\n",
    "ax7.plot(dt['aaa'].data, '-b'), ax8.plot(dt['aad'].data, '-r'), ax9.plot(dt['ada'].data, '-b'), ax10.plot(dt['add'].data, '-r')\n",
    "ax11.plot(dt['daa'].data, '-b'), ax12.plot(dt['dad'].data, '-r'), ax13.plot(dt['dda'].data, '-b'), ax14.plot(dt['ddd'].data, '-r')\n",
    "\n",
    "for i in range(1, 15):\n",
    "    exec(f'ax{i}.set_xticks([])')\n",
    "    exec(f'ax{i}.set_yticks([])')\n",
    "\n",
    "plt.show()"
   ]
  },
  {
   "cell_type": "code",
   "execution_count": null,
   "metadata": {},
   "outputs": [],
   "source": [
    "# Save wavelet packet transform plots\n",
    "dt1, dt2 = wp30_coif3['ddd'].data, wp_coif3['ddd'].data\n",
    "dt = wp30_coif3['aaa'].data\n",
    "plt.figure(figsize=(4.5, 3), dpi=100, layout='constrained')\n",
    "plt.plot(dt1, '-r', label='Noisy')\n",
    "plt.plot(dt2, '-b', label='Noise-free')\n",
    "plt.legend(frameon=False, loc='upper right')\n",
    "plt.xlim([0, len(dt)])\n",
    "plt.xlabel('Index', fontsize=14, fontweight='bold')\n",
    "plt.ylabel('Magnitude', fontsize=14, fontweight='bold')\n",
    "plt.ylim([min(dt), max(dt)])\n",
    "#plt.title('A', fontsize=14, fontweight='bold')\n",
    "# plt.xticks([])\n",
    "# plt.yticks([])\n",
    "# plt.savefig('wpesr30_ddd.png'.format(i=i), dpi=400, bbox_inches='tight', pad_inches=0.02)\n",
    "# plt.savefig('wpesrnoise30_ddd.png'.format(i=i), dpi=400, bbox_inches='tight', pad_inches=0.02)\n",
    "\n",
    "plt.show()"
   ]
  },
  {
   "cell_type": "code",
   "execution_count": null,
   "metadata": {},
   "outputs": [],
   "source": [
    "# Discrete wavelet transform data\n",
    "dl=1\n",
    "cf_coif3, rcf_coif3 = data_wcfs(data=-1*data_esr[:, 1], wave='coif3', lev=dl)\n",
    "cf30_coif3, rcf30_coif3 = data_wcfs(data=data_esr30, wave='coif3', lev=dl)"
   ]
  },
  {
   "cell_type": "code",
   "execution_count": null,
   "metadata": {},
   "outputs": [],
   "source": [
    "# Save dwt coefficients plot\n",
    "dt = cf30_coif3\n",
    "for i in range(0, dl):\n",
    "    plt.figure(figsize=(4.5, 3), dpi=100, layout='constrained')\n",
    "    plt.plot(dt[1][i], '-b')\n",
    "    plt.xlim([0, len(dt[0][i])-1])\n",
    "    plt.xlabel('Index', fontsize=14, fontweight='bold')\n",
    "    plt.ylabel('Magnitude', fontsize=14, fontweight='bold')\n",
    "    # plt.ylim([min(dt[0][i]), max(dt[0][i])])\n",
    "    #plt.savefig('dwtdb6detesr30_{i}.png'.format(i=i), dpi=400, bbox_inches='tight', pad_inches=0.02)\n",
    "\n",
    "    plt.show()"
   ]
  },
  {
   "cell_type": "code",
   "execution_count": null,
   "metadata": {},
   "outputs": [],
   "source": [
    "# Plot and save FT of wavelet coefficients\n",
    "dt, dt30 = rcf_coif3, rcf30_coif3\n",
    "for i in range(0, dl):\n",
    "    #fq1 = rfftfreq(len(dt30[0][i]), deltaT)\n",
    "    plt.figure(figsize=(4.5, 3), dpi=100, layout='constrained')\n",
    "    plt.plot(fq, abs(rfft(dt30[0][i])), '-b', label='Approximation')\n",
    "    plt.plot(fq, abs(rfft(dt30[1][i])), '-r', label='Detail')\n",
    "    plt.legend(frameon=False, fontsize=10)\n",
    "    plt.xlim([fq[0], fq[len(fq)-1]])\n",
    "    plt.xlabel('Frequency($Gauss^{-1}$)', fontsize=14, fontweight='bold')\n",
    "    plt.ylabel('Magnitude', fontsize=14, fontweight='bold')\n",
    "    #plt.ylim([min(abs(rfft(dt[-i][0]))), max(abs(rfft(dt[-i][0])))])\n",
    "    #plt.annotate('Signal \\n Distortion', xy=(0.85, 3.5), xytext=(0.85, 6.6), xycoords='data', arrowprops=arprop, alpha=alp, ha='center', fontsize=10)\n",
    "    #plt.savefig('dwtcoif3ftesr_{i}.png'.format(i=i), dpi=400, bbox_inches='tight', pad_inches=0.02)\n",
    "\n",
    "    plt.show()"
   ]
  },
  {
   "cell_type": "code",
   "execution_count": null,
   "metadata": {},
   "outputs": [],
   "source": []
  },
  {
   "cell_type": "code",
   "execution_count": null,
   "metadata": {},
   "outputs": [],
   "source": []
  },
  {
   "cell_type": "code",
   "execution_count": null,
   "metadata": {},
   "outputs": [],
   "source": [
    "# Inverse wavelet transform\n",
    "# del wp1, wp2, rwp1, rwp2\n",
    "wpdl = 3\n",
    "wp1 = WaveletPacket(data=-1*data_esr[:, 1], wavelet='coif3', maxlevel=wpdl)\n",
    "wp2 = WaveletPacket(data=-1*data_esr[:, 1], wavelet='coif3', maxlevel=wpdl)\n",
    "wpn1 = WaveletPacket(data=data_esr30, wavelet='coif3', maxlevel=wpdl)\n",
    "wpn2 = WaveletPacket(data=data_esr30, wavelet='coif3', maxlevel=wpdl)\n",
    "#del wp1['d']"
   ]
  },
  {
   "cell_type": "code",
   "execution_count": null,
   "metadata": {},
   "outputs": [],
   "source": [
    "# wp1['d'].data[::], wp1['a'].data[::] = 0, 0\n",
    "# wp1['aa'].data[::], wp1['ad'].data[::], wp1['da'].data[::], wp1['dd'].data[::] = 0, 0, 0, 0\n",
    "# wp1['aaa'].data[::], wp1['aad'].data[::], wp1['ada'].data[::], wp1['add'].data[::] = 0, 0, 0, 0\n",
    "# wp1['daa'].data[::], wp1['dad'].data[::], wp1['ddd'].data[::] = 0, 0, 0\n",
    "# del wp1['aa']\n",
    "\n",
    "#del wp2['a']\n",
    "# wp2['a'].data[::], wp2['d'].data[::] = 0, 0\n",
    "# wp2['aa'].data[::], wp2['ad'].data[::], wp2['da'].data[::], wp2['dd'].data[::] = 0, 0, 0, 0\n",
    "# wp2['aaa'].data[::], wp2['aad'].data[::], wp2['ada'].data[::], wp2['add'].data[::] = 0, 0, 0, 0\n",
    "# wp2['daa'].data[::], wp2['dad'].data[::], wp2['dda'].data[::] = 0, 0, 0\n"
   ]
  },
  {
   "cell_type": "code",
   "execution_count": null,
   "metadata": {},
   "outputs": [],
   "source": [
    "wpn1['d'].data[::], wpn1['a'].data[::] = 0, 0\n",
    "wpn1['aa'].data[::], wpn1['ad'].data[::], wpn1['da'].data[::], wpn1['da'].data[::] = 0, 0, 0, 0\n",
    "wpn1['aaa'].data[::], wpn1['aad'].data[::], wpn1['ada'].data[::], wpn1['add'].data[::] = 0, 0, 0, 0\n",
    "wpn1['daa'].data[::], wpn1['dad'].data[::], wpn1['dda'].data[::] = 0, 0, 0\n",
    "# del wp1['aa']\n",
    "\n",
    "#del wp2['a']\n",
    "wpn2['a'].data[::], wpn2['d'].data[::] = 0, 0\n",
    "# wpn2['aa'].data[::], wpn2['ad'].data[::], wpn2['ad'].data[::] = 0, 0, 0\n",
    "# wpn2['aaa'].data[::], wpn2['aad'].data[::], wpn2['ada'].data[::], wpn2['add'].data[::] = 0, 0, 0, 0\n",
    "# wpn2['daa'].data[::], wpn2['dad'].data[::], wpn2['dda'].data[::] = 0, 0, 0\n"
   ]
  },
  {
   "cell_type": "code",
   "execution_count": null,
   "metadata": {},
   "outputs": [],
   "source": [
    "# rwp1 = wp1.reconstruct(update=True)\n",
    "# rwp2 = wp2.reconstruct(update=True)\n",
    "\n",
    "rwpn1 = wpn1.reconstruct(update=True)\n",
    "rwpn2 = wpn2.reconstruct(update=True)"
   ]
  },
  {
   "cell_type": "code",
   "execution_count": null,
   "metadata": {},
   "outputs": [],
   "source": [
    "fig = plt.figure(figsize=(17, 4), dpi=100, constrained_layout=True)\n",
    "gs = fig.add_gridspec(1, 2, hspace=0, wspace=0)\n",
    "ax = gs.subplots(sharex=False, sharey=False)\n",
    "ax[0].plot(wp1['dda'].data), ax[0].plot(wpn1['dda'].data)\n",
    "ax[1].plot(wp2['ddd'].data), ax[1].plot(wpn1['ddd'].data)\n",
    "\n",
    "plt.show()"
   ]
  },
  {
   "cell_type": "code",
   "execution_count": null,
   "metadata": {},
   "outputs": [],
   "source": [
    "# Save FT of the reconstructed wavelet packet data\n",
    "plt.figure(figsize=(4.5, 3), dpi=100, layout='constrained')\n",
    "plt.plot(fq, abs(rfft(rwpn1)), '-b', label='DDA')\n",
    "plt.plot(fq, abs(rfft(rwpn2)), '-r', label='DDD')\n",
    "plt.legend(frameon=False, fontsize=10)\n",
    "plt.xlim([fq[0], fq[len(fq)-1]])\n",
    "plt.ylim([-0.325, max(abs(rfft(rwpn1)))])\n",
    "plt.xlabel('Frequency($Gauss^{-1}$)', fontsize=14, fontweight='bold')\n",
    "plt.ylabel('Magnitude', fontsize=14, fontweight='bold')\n",
    "# plt.xticks([])\n",
    "# plt.yticks([])\n",
    "# plt.savefig('FTwp_dda_ddd.png'.format(i=i), dpi=400, transpent=True, bbox_inches='tight', pad_inches=0.02)\n",
    "\n",
    "plt.show()"
   ]
  },
  {
   "cell_type": "code",
   "execution_count": null,
   "metadata": {},
   "outputs": [],
   "source": [
    "# Save FT of the reconstructed wavelet packet data\n",
    "plt.figure(figsize=(4.5, 3), dpi=100, layout='constrained')\n",
    "# plt.plot(fq, abs(rfft(rwpn1)), '-b', label='DDA')\n",
    "plt.plot(fq, abs(rfft(rwpn1)), '-r', label='DDD')\n",
    "# plt.legend(frameon=False, fontsize=10)\n",
    "plt.xlim([fq[0], fq[len(fq)-1]])\n",
    "plt.ylim([-0.325, max(abs(rfft(rwpn1)))])\n",
    "plt.xlabel('Frequency($Gauss^{-1}$)', fontsize=14, fontweight='bold')\n",
    "plt.ylabel('Magnitude', fontsize=14, fontweight='bold')\n",
    "# plt.xticks([])\n",
    "# plt.yticks([])\n",
    "# plt.savefig('FTwpn_ddd1.png', dpi=400, transparent=True, bbox_inches='tight', pad_inches=0.02)\n",
    "\n",
    "plt.show()"
   ]
  }
 ],
 "metadata": {
  "kernelspec": {
   "display_name": "base",
   "language": "python",
   "name": "python3"
  },
  "language_info": {
   "codemirror_mode": {
    "name": "ipython",
    "version": 3
   },
   "file_extension": ".py",
   "mimetype": "text/x-python",
   "name": "python",
   "nbconvert_exporter": "python",
   "pygments_lexer": "ipython3",
   "version": "3.11.3"
  },
  "orig_nbformat": 4
 },
 "nbformat": 4,
 "nbformat_minor": 2
}
